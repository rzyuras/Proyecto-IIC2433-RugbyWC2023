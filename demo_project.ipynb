{
  "nbformat": 4,
  "nbformat_minor": 0,
  "metadata": {
    "colab": {
      "provenance": []
    },
    "kernelspec": {
      "name": "python3",
      "display_name": "Python 3"
    },
    "language_info": {
      "name": "python"
    }
  },
  "cells": [
    {
      "cell_type": "markdown",
      "source": [
        "## Entrenar el modelo"
      ],
      "metadata": {
        "id": "OH1ffrrShc1N"
      }
    },
    {
      "cell_type": "markdown",
      "source": [
        "Instalación de librerías"
      ],
      "metadata": {
        "id": "Hp37bHOq8io5"
      }
    },
    {
      "cell_type": "code",
      "execution_count": 115,
      "metadata": {
        "id": "lt-MZllO8hiy"
      },
      "outputs": [],
      "source": [
        "import pandas as pd\n",
        "from sklearn.model_selection import train_test_split, GridSearchCV\n",
        "from sklearn.metrics import mean_squared_error\n",
        "from sklearn.preprocessing import StandardScaler\n",
        "from tensorflow.keras.models import Sequential\n",
        "from tensorflow.keras.layers import Dense, Dropout\n",
        "import matplotlib.pyplot as plt\n",
        "import itertools\n"
      ]
    },
    {
      "cell_type": "markdown",
      "source": [
        "Carga de datos\n"
      ],
      "metadata": {
        "id": "69nxEgZn9asS"
      }
    },
    {
      "cell_type": "code",
      "source": [
        "data = pd.read_csv('rugby_data_with_elo.csv')"
      ],
      "metadata": {
        "id": "DTLSa-oG9cAQ"
      },
      "execution_count": 97,
      "outputs": []
    },
    {
      "cell_type": "markdown",
      "source": [
        "Preprocesamiento de datos"
      ],
      "metadata": {
        "id": "nwF5KiPl9ejP"
      }
    },
    {
      "cell_type": "code",
      "source": [
        "# Filter los datos desde el 2004 para trabajar con Elos más reales\n",
        "data = data[data['Date'] >= '2004-01-01']\n",
        "\n",
        "# Borramos todas las filas de partidos de los British and Irish Lions\n",
        "data = data[(data['Home Team'] != 'LIO') & (data['Away Team'] != 'LIO')]\n",
        "\n",
        "# Una fila tiene un valor nulo para 'Neutral' asi que los seteamos en 0\n",
        "data['Neutral'].fillna(0, inplace=True)\n",
        "\n",
        "# Seleccionamos los datos que nos interesan para el modelo\n",
        "df = data[['Home Score', 'Away Score', 'Home Rank', 'Away Rank', 'Home Elo', 'Away Elo', 'Neutral']]\n",
        "\n",
        "# Separamos en X e y\n",
        "X = df[['Home Rank', 'Away Rank', 'Home Elo', 'Away Elo', 'Neutral']]\n",
        "y = df[['Home Score', 'Away Score']]\n",
        "\n"
      ],
      "metadata": {
        "id": "7Nc22_Wi9hze"
      },
      "execution_count": 98,
      "outputs": []
    },
    {
      "cell_type": "code",
      "source": [
        "data.info()\n",
        "X.info()\n",
        "y.info()"
      ],
      "metadata": {
        "colab": {
          "base_uri": "https://localhost:8080/"
        },
        "id": "86q6W2HfDx_S",
        "outputId": "c1cf5f1b-ec14-4bc1-8b7d-66c1d254098d"
      },
      "execution_count": 99,
      "outputs": [
        {
          "output_type": "stream",
          "name": "stdout",
          "text": [
            "<class 'pandas.core.frame.DataFrame'>\n",
            "Int64Index: 1160 entries, 94 to 1266\n",
            "Data columns (total 17 columns):\n",
            " #   Column       Non-Null Count  Dtype  \n",
            "---  ------       --------------  -----  \n",
            " 0   Date         1160 non-null   object \n",
            " 1   Tournament   1108 non-null   object \n",
            " 2   Round        698 non-null    object \n",
            " 3   Home Team    1160 non-null   object \n",
            " 4   Away Team    1160 non-null   object \n",
            " 5   Home Score   1160 non-null   int64  \n",
            " 6   Away Score   1160 non-null   int64  \n",
            " 7   Home Tries   1160 non-null   int64  \n",
            " 8   Away Tries   1160 non-null   int64  \n",
            " 9   Home Points  1160 non-null   int64  \n",
            " 10  Away Points  1160 non-null   int64  \n",
            " 11  Venue        1160 non-null   object \n",
            " 12  Neutral      1160 non-null   float64\n",
            " 13  Home Rank    1160 non-null   int64  \n",
            " 14  Away Rank    1160 non-null   int64  \n",
            " 15  Home Elo     1160 non-null   int64  \n",
            " 16  Away Elo     1160 non-null   int64  \n",
            "dtypes: float64(1), int64(10), object(6)\n",
            "memory usage: 163.1+ KB\n",
            "<class 'pandas.core.frame.DataFrame'>\n",
            "Int64Index: 1160 entries, 94 to 1266\n",
            "Data columns (total 5 columns):\n",
            " #   Column     Non-Null Count  Dtype  \n",
            "---  ------     --------------  -----  \n",
            " 0   Home Rank  1160 non-null   int64  \n",
            " 1   Away Rank  1160 non-null   int64  \n",
            " 2   Home Elo   1160 non-null   int64  \n",
            " 3   Away Elo   1160 non-null   int64  \n",
            " 4   Neutral    1160 non-null   float64\n",
            "dtypes: float64(1), int64(4)\n",
            "memory usage: 54.4 KB\n",
            "<class 'pandas.core.frame.DataFrame'>\n",
            "Int64Index: 1160 entries, 94 to 1266\n",
            "Data columns (total 2 columns):\n",
            " #   Column      Non-Null Count  Dtype\n",
            "---  ------      --------------  -----\n",
            " 0   Home Score  1160 non-null   int64\n",
            " 1   Away Score  1160 non-null   int64\n",
            "dtypes: int64(2)\n",
            "memory usage: 27.2 KB\n"
          ]
        }
      ]
    },
    {
      "cell_type": "markdown",
      "source": [
        "Separamos los datos en test y train"
      ],
      "metadata": {
        "id": "43ZkhIdWBzJW"
      }
    },
    {
      "cell_type": "code",
      "source": [
        "X_train, X_test, y_train, y_test = train_test_split(X, y, test_size=0.2, random_state=42)"
      ],
      "metadata": {
        "id": "I2KZI5dTAYPr"
      },
      "execution_count": 100,
      "outputs": []
    },
    {
      "cell_type": "markdown",
      "source": [
        "Escalamos los datos"
      ],
      "metadata": {
        "id": "kh2ujU80FI6q"
      }
    },
    {
      "cell_type": "code",
      "source": [
        "scaler = StandardScaler()\n",
        "X_train_scaled = scaler.fit_transform(X_train)\n",
        "X_test_scaled = scaler.transform(X_test)"
      ],
      "metadata": {
        "id": "0rR3XfoZFIcR"
      },
      "execution_count": 101,
      "outputs": []
    },
    {
      "cell_type": "markdown",
      "source": [
        "Experimentamos con capas y número de neuronas"
      ],
      "metadata": {
        "id": "Z4XGKW43dNHX"
      }
    },
    {
      "cell_type": "code",
      "source": [
        "# Definir las combinaciones de capas y neuronas a probar\n",
        "combinations = list(itertools.product([1, 2, 3], [10, 15, 20]))\n",
        "\n",
        "for layers, neurons in combinations:\n",
        "    model = Sequential()\n",
        "    model.add(Dense(neurons, input_dim=5, kernel_initializer='normal', activation='relu'))\n",
        "\n",
        "    for _ in range(layers - 1):\n",
        "        model.add(Dense(neurons, kernel_initializer='normal', activation='relu'))\n",
        "\n",
        "    model.add(Dense(2, kernel_initializer='normal'))\n",
        "\n",
        "    model.compile(loss='mean_squared_error', optimizer='adam')\n",
        "\n",
        "    history = model.fit(X_train_scaled, y_train, validation_split=0.25, epochs=200, batch_size=25, verbose=0, validation_data=(X_test_scaled, y_test))\n",
        "\n",
        "    mse = model.evaluate(X_test_scaled, y_test)\n",
        "    print(f\"Layers: {layers}, Neurons: {neurons}, MSE: {mse}\")"
      ],
      "metadata": {
        "colab": {
          "base_uri": "https://localhost:8080/"
        },
        "id": "DiXuxvUJdMp3",
        "outputId": "f136e4aa-37f8-4a95-e8aa-448cd03a663a"
      },
      "execution_count": 116,
      "outputs": [
        {
          "output_type": "stream",
          "name": "stdout",
          "text": [
            "8/8 [==============================] - 0s 2ms/step - loss: 101.2586\n",
            "Layers: 1, Neurons: 10, MSE: 101.25862884521484\n",
            "8/8 [==============================] - 0s 2ms/step - loss: 101.8765\n",
            "Layers: 1, Neurons: 15, MSE: 101.87654113769531\n",
            "8/8 [==============================] - 0s 2ms/step - loss: 101.0284\n",
            "Layers: 1, Neurons: 20, MSE: 101.02839660644531\n",
            "8/8 [==============================] - 0s 1ms/step - loss: 102.1412\n",
            "Layers: 2, Neurons: 10, MSE: 102.14124298095703\n",
            "8/8 [==============================] - 0s 1ms/step - loss: 101.3312\n",
            "Layers: 2, Neurons: 15, MSE: 101.33120727539062\n",
            "8/8 [==============================] - 0s 1ms/step - loss: 100.0562\n",
            "Layers: 2, Neurons: 20, MSE: 100.05618286132812\n",
            "8/8 [==============================] - 0s 2ms/step - loss: 102.5937\n",
            "Layers: 3, Neurons: 10, MSE: 102.59366607666016\n",
            "8/8 [==============================] - 0s 2ms/step - loss: 100.5432\n",
            "Layers: 3, Neurons: 15, MSE: 100.54320526123047\n",
            "8/8 [==============================] - 0s 2ms/step - loss: 99.8390\n",
            "Layers: 3, Neurons: 20, MSE: 99.83895111083984\n"
          ]
        }
      ]
    },
    {
      "cell_type": "markdown",
      "source": [
        "Creamos el modelo Secuencial"
      ],
      "metadata": {
        "id": "B1dignpvB72s"
      }
    },
    {
      "cell_type": "code",
      "source": [
        "model = Sequential()\n",
        "model.add(Dense(20, input_dim=5, kernel_initializer='normal', activation='relu'))\n",
        "model.add(Dense(15, kernel_initializer='normal', activation='relu'))\n",
        "model.add(Dense(8, kernel_initializer='normal', activation='relu'))\n",
        "model.add(Dense(2, kernel_initializer='normal'))"
      ],
      "metadata": {
        "id": "hzO2cNqVB9qh"
      },
      "execution_count": 146,
      "outputs": []
    },
    {
      "cell_type": "markdown",
      "source": [
        "Lo compilamos"
      ],
      "metadata": {
        "id": "WqcVT9X7CGa7"
      }
    },
    {
      "cell_type": "code",
      "source": [
        "model.compile(loss='mean_squared_error', optimizer='adam')"
      ],
      "metadata": {
        "id": "KlztUKxWCHoi"
      },
      "execution_count": 147,
      "outputs": []
    },
    {
      "cell_type": "markdown",
      "source": [
        "Y lo entrenamos"
      ],
      "metadata": {
        "id": "nmlq54EiB-q7"
      }
    },
    {
      "cell_type": "code",
      "source": [
        "test_size = 0.2\n",
        "batch_size = 25\n",
        "epochs = 200\n",
        "verbose = 0"
      ],
      "metadata": {
        "id": "5q6hDWO3IJ1n"
      },
      "execution_count": 127,
      "outputs": []
    },
    {
      "cell_type": "code",
      "source": [
        "history = model.fit(X_train_scaled, y_train, validation_split=0.25, epochs=epochs, batch_size=batch_size, verbose=verbose, validation_data=(X_test_scaled, y_test))"
      ],
      "metadata": {
        "id": "tdSYk9-3B_00"
      },
      "execution_count": 148,
      "outputs": []
    },
    {
      "cell_type": "markdown",
      "source": [
        "Evaluamos con los datos de test"
      ],
      "metadata": {
        "id": "CW29MYiFCRNv"
      }
    },
    {
      "cell_type": "code",
      "source": [
        "mse = model.evaluate(X_test_scaled, y_test)\n",
        "print(f\"Mean Squared Error: {mse}\")"
      ],
      "metadata": {
        "colab": {
          "base_uri": "https://localhost:8080/"
        },
        "id": "_TlLGtHZCPWN",
        "outputId": "75c63b50-56af-4ca0-f28a-4f3aa788f0a2"
      },
      "execution_count": 149,
      "outputs": [
        {
          "output_type": "stream",
          "name": "stdout",
          "text": [
            "8/8 [==============================] - 0s 1ms/step - loss: 99.5659\n",
            "Mean Squared Error: 99.5658950805664\n"
          ]
        }
      ]
    },
    {
      "cell_type": "markdown",
      "source": [
        "Graficamos"
      ],
      "metadata": {
        "id": "sU0G9cZyHP6x"
      }
    },
    {
      "cell_type": "code",
      "source": [
        "plt.plot(history.history['loss'])\n",
        "plt.plot(history.history['val_loss'])\n",
        "plt.title('Model loss')\n",
        "plt.ylabel('Loss')\n",
        "plt.xlabel('Epoch')\n",
        "plt.legend(['Train', 'Test'], loc='upper right')\n",
        "plt.show()\n"
      ],
      "metadata": {
        "colab": {
          "base_uri": "https://localhost:8080/",
          "height": 472
        },
        "id": "uoWXFFbvI3pI",
        "outputId": "83788734-d4a8-440e-9828-51290ef62477"
      },
      "execution_count": 150,
      "outputs": [
        {
          "output_type": "display_data",
          "data": {
            "text/plain": [
              "<Figure size 640x480 with 1 Axes>"
            ],
            "image/png": "[encoded data removed]"
          },
          "metadata": {}
        }
      ]
    },
    {
      "cell_type": "markdown",
      "source": [
        "Desglose de los resultados"
      ],
      "metadata": {
        "id": "dMFAaaovgza6"
      }
    },
    {
      "cell_type": "code",
      "source": [
        "# Predicciones del test\n",
        "y_pred = model.predict(X_test_scaled)\n",
        "\n",
        "# Creamos un df para observar de mejor manera los valores de las predicciones comparados con los esperados\n",
        "results = pd.DataFrame({'Expected Home Score': y_test['Home Score'], 'Expected Away Score': y_test['Away Score'],\n",
        "                        'Predicted Home Score': y_pred[:, 0], 'Predicted Away Score': y_pred[:, 1]})\n",
        "\n",
        "# Para visualizar a los ganadores agregamos una columna\n",
        "results['Predicted Winner'] = results.apply(lambda row: 'Home' if row['Predicted Home Score'] > row['Predicted Away Score'] else 'Away', axis=1)\n",
        "\n",
        "# Y tambien agramos la columna del ganador esperado\n",
        "results['Expected Winner'] = results.apply(lambda row: 'Home' if row['Expected Home Score'] > row['Expected Away Score'] else 'Away', axis=1)\n",
        "\n",
        "# Calculamos porcentajes de aciertos\n",
        "correct_guesses = results[results['Predicted Winner'] == results['Expected Winner']]\n",
        "accuracy = len(correct_guesses) / len(results) * 100\n",
        "\n",
        "print(results)\n",
        "print(f\"Accuracy of Winning Team Prediction: {accuracy}%\")"
      ],
      "metadata": {
        "colab": {
          "base_uri": "https://localhost:8080/"
        },
        "id": "1py1j_eMPun4",
        "outputId": "ec0388dc-eaff-413e-b055-9478473ed888"
      },
      "execution_count": 153,
      "outputs": [
        {
          "output_type": "stream",
          "name": "stdout",
          "text": [
            "8/8 [==============================] - 0s 1ms/step\n",
            "      Expected Home Score  Expected Away Score  Predicted Home Score  \\\n",
            "811                    39                   13             31.000528   \n",
            "1258                   28                   17             18.318924   \n",
            "586                    23                   32             38.093903   \n",
            "143                    27                   14             21.905903   \n",
            "1016                   22                   16             24.702351   \n",
            "...                   ...                  ...                   ...   \n",
            "1169                   16                   26             13.496529   \n",
            "1231                   29                   17             38.815868   \n",
            "861                    16                   21             19.254454   \n",
            "918                    43                   10             46.873669   \n",
            "1019                   36                   15             53.084991   \n",
            "\n",
            "      Predicted Away Score Predicted Winner Expected Winner  \n",
            "811              12.931198             Home            Home  \n",
            "1258             24.057238             Away            Home  \n",
            "586              11.560937             Home            Away  \n",
            "143              21.280653             Home            Home  \n",
            "1016             16.252413             Home            Home  \n",
            "...                    ...              ...             ...  \n",
            "1169             43.533867             Away            Away  \n",
            "1231             11.884052             Home            Home  \n",
            "861              24.647539             Away            Away  \n",
            "918              10.104663             Home            Home  \n",
            "1019             12.688293             Home            Home  \n",
            "\n",
            "[232 rows x 6 columns]\n",
            "Accuracy of Winning Team Prediction: 84.48275862068965%\n"
          ]
        }
      ]
    },
    {
      "cell_type": "markdown",
      "source": [
        "Ranking actual segun ELOs"
      ],
      "metadata": {
        "id": "t2xG-lQrg23C"
      }
    },
    {
      "cell_type": "code",
      "source": [
        "df_rank = data\n",
        "# Ordenamos el df por fecha\n",
        "df_rank = df_rank.sort_values(by='Date', ascending=False)\n",
        "\n",
        "# Agrupamos por equipo\n",
        "elo_df = df_rank.groupby('Home Team').first().reset_index()\n",
        "\n",
        "# Selecciones el último puntaje ELO\n",
        "elo_df = elo_df[['Home Team', 'Home Elo']].rename(columns={'Home Team': 'Team', 'Home Elo': 'Elo'})\n",
        "\n",
        "# Ordenamos el df\n",
        "elo_df = elo_df.sort_values(by='Elo', ascending=False)\n",
        "\n",
        "print(elo_df)"
      ],
      "metadata": {
        "colab": {
          "base_uri": "https://localhost:8080/"
        },
        "id": "kpB224GSMogw",
        "outputId": "3d8e21b8-0ac9-433b-d4ad-fb65cc88a0f8"
      },
      "execution_count": 154,
      "outputs": [
        {
          "output_type": "stream",
          "name": "stdout",
          "text": [
            "   Team   Elo\n",
            "16  SAF  1990\n",
            "4   ENG  1970\n",
            "12  NZL  1970\n",
            "8   IRE  1960\n",
            "22  WAL  1940\n",
            "6   FRA  1940\n",
            "1   AUS  1940\n",
            "10  JAP  1920\n",
            "18  SCO  1920\n",
            "0   ARG  1900\n",
            "7   GEO  1890\n",
            "5   FIJ  1880\n",
            "19  TON  1870\n",
            "9   ITA  1860\n",
            "14  ROM  1850\n",
            "17  SAM  1850\n",
            "21  USA  1850\n",
            "15  RUS  1800\n",
            "2   CAN  1790\n",
            "20  URU  1790\n",
            "13  POR  1780\n",
            "11  NAM  1770\n",
            "3   CHL  1760\n"
          ]
        }
      ]
    },
    {
      "cell_type": "markdown",
      "source": [
        "## Finalmente, predicciones para el mundial 2023"
      ],
      "metadata": {
        "id": "4BhImQQuhQ-y"
      }
    },
    {
      "cell_type": "markdown",
      "source": [
        "Cargamos los datos de los partidos a predecir"
      ],
      "metadata": {
        "id": "-KVVvJK2sZVj"
      }
    },
    {
      "cell_type": "code",
      "source": [
        "prediction_data = pd.read_csv('world_cup_first_round.csv')"
      ],
      "metadata": {
        "id": "8w3xH998iEuQ"
      },
      "execution_count": 155,
      "outputs": []
    },
    {
      "cell_type": "markdown",
      "source": [
        "Preprocesamos los datos"
      ],
      "metadata": {
        "id": "xvQged3EsfrQ"
      }
    },
    {
      "cell_type": "code",
      "source": [
        "X_prediction = prediction_data[['Home Rank', 'Away Rank', 'Home Elo', 'Away Elo', 'Neutral']]\n",
        "X_prediction_scaled = scaler.transform(X_prediction)"
      ],
      "metadata": {
        "id": "RSEp_NN1sj5M"
      },
      "execution_count": 156,
      "outputs": []
    },
    {
      "cell_type": "markdown",
      "source": [
        "Realizamos las predicciones"
      ],
      "metadata": {
        "id": "jC4cNIu6soJf"
      }
    },
    {
      "cell_type": "code",
      "source": [
        "predictions = model.predict(X_prediction_scaled)"
      ],
      "metadata": {
        "colab": {
          "base_uri": "https://localhost:8080/"
        },
        "id": "uO26iHsKswXV",
        "outputId": "23b9a568-4297-43d7-bbb4-eeed53b73eca"
      },
      "execution_count": 157,
      "outputs": [
        {
          "output_type": "stream",
          "name": "stdout",
          "text": [
            "1/1 [==============================] - 0s 16ms/step\n"
          ]
        }
      ]
    },
    {
      "cell_type": "markdown",
      "source": [
        "Mostramos los resultados"
      ],
      "metadata": {
        "id": "ffkHWMMxsx62"
      }
    },
    {
      "cell_type": "code",
      "source": [
        "# Obtener los nombres de los equipos de local y visitante\n",
        "home_teams = prediction_data['Home Team'].tolist()\n",
        "away_teams = prediction_data['Away Team'].tolist()\n",
        "\n",
        "# Imprimir las predicciones para cada partido\n",
        "for i in range(len(predictions)):\n",
        "    home_team = home_teams[i]\n",
        "    away_team = away_teams[i]\n",
        "    home_score_prediction = predictions[i][0]\n",
        "    away_score_prediction = predictions[i][1]\n",
        "\n",
        "    print(f\"Predictions for match: {home_team} vs {away_team}\")\n",
        "    print(\"Predicted Home Score:\", home_score_prediction)\n",
        "    print(\"Predicted Away Score:\", away_score_prediction)\n",
        "    print()"
      ],
      "metadata": {
        "colab": {
          "base_uri": "https://localhost:8080/"
        },
        "id": "V1ACn2K7s0n3",
        "outputId": "635878e6-702b-4b49-8707-c940ee1e9e5d"
      },
      "execution_count": 158,
      "outputs": [
        {
          "output_type": "stream",
          "name": "stdout",
          "text": [
            "Predictions for match: FRA vs NZL\n",
            "Predicted Home Score: 21.335169\n",
            "Predicted Away Score: 20.919676\n",
            "\n",
            "Predictions for match: ITA vs NAM\n",
            "Predicted Home Score: 38.417206\n",
            "Predicted Away Score: 13.416033\n",
            "\n",
            "Predictions for match: IRE vs ROM\n",
            "Predicted Home Score: 52.404224\n",
            "Predicted Away Score: 10.455403\n",
            "\n",
            "Predictions for match: AUS vs GEO\n",
            "Predicted Home Score: 30.046772\n",
            "Predicted Away Score: 14.119124\n",
            "\n",
            "Predictions for match: ENG vs ARG\n",
            "Predicted Home Score: 30.760674\n",
            "Predicted Away Score: 14.464723\n",
            "\n",
            "Predictions for match: JAP vs CHL\n",
            "Predicted Home Score: 56.30631\n",
            "Predicted Away Score: 10.935213\n",
            "\n",
            "Predictions for match: SAF vs SCO\n",
            "Predicted Home Score: 30.836292\n",
            "Predicted Away Score: 16.115639\n",
            "\n",
            "Predictions for match: WAL vs FIJ\n",
            "Predicted Home Score: 31.122255\n",
            "Predicted Away Score: 13.504702\n",
            "\n"
          ]
        }
      ]
    }
  ]
}